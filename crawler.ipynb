{
  "nbformat": 4,
  "nbformat_minor": 0,
  "metadata": {
    "colab": {
      "provenance": [],
      "authorship_tag": "ABX9TyOcRkljZrjMGzcQReOr8QLJ",
      "include_colab_link": true
    },
    "kernelspec": {
      "name": "python3",
      "display_name": "Python 3"
    },
    "language_info": {
      "name": "python"
    }
  },
  "cells": [
    {
      "cell_type": "markdown",
      "metadata": {
        "id": "view-in-github",
        "colab_type": "text"
      },
      "source": [
        "<a href=\"https://colab.research.google.com/github/Denisssssssss/search_course/blob/main/crawler.ipynb\" target=\"_parent\"><img src=\"https://colab.research.google.com/assets/colab-badge.svg\" alt=\"Open In Colab\"/></a>"
      ]
    },
    {
      "cell_type": "code",
      "execution_count": null,
      "metadata": {
        "id": "61pdEgJ7nQgN"
      },
      "outputs": [],
      "source": [
        "import requests\n",
        "from bs4 import BeautifulSoup\n",
        "\n",
        "base_url = 'https://www.imdb.com'\n",
        "base_page_url = base_url + '/search/title/?country_of_origin=%s&start=0&ref_=adv_nxt'\n",
        "countries = ['in', 'us', 'fr', 'ru']\n",
        "film_count = 1\n",
        "\n",
        "\n",
        "for country in countries:\n",
        "    films_page = requests.get(base_page_url % (country)).text\n",
        "    content = BeautifulSoup(films_page, 'lxml')\n",
        "    main_div = content.find_all('div', {'class': 'article'})[0]\n",
        "    film_cards = main_div.find_all('div', {'class': 'lister-item mode-advanced'})\n",
        "    for card in film_cards[1:]:\n",
        "        film_path = card.find_all('a')[0]['href']\n",
        "        request_url = base_url + film_path\n",
        "        film_data = BeautifulSoup(requests.get(request_url).text, 'lxml')\n",
        "        with open('../Выкачка/выкачка_%d.txt' % (film_count), 'w') as film_data_file:\n",
        "            storyline = film_data.find_all('div', {'class': 'ipc-html-content ipc-html-content--base'})[0]\n",
        "            film_data_file.write(storyline.text)\n",
        "        with open('index.txt', 'a') as index_file:\n",
        "            index_file.write(str(film_count) + ' ' + request_url + '\\n')\n",
        "        film_count += 1   "
      ]
    }
  ]
}